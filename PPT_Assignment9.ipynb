{
  "nbformat": 4,
  "nbformat_minor": 0,
  "metadata": {
    "colab": {
      "provenance": []
    },
    "kernelspec": {
      "name": "python3",
      "display_name": "Python 3"
    },
    "language_info": {
      "name": "python"
    }
  },
  "cells": [
    {
      "cell_type": "code",
      "execution_count": null,
      "metadata": {
        "id": "WcARcR5WrQmk"
      },
      "outputs": [],
      "source": []
    },
    {
      "cell_type": "markdown",
      "source": [
        "<aside>\n",
        "💡 **Question 1**\n",
        "\n",
        "Given an integer `n`, return *`true` if it is a power of two. Otherwise, return `false`*.\n",
        "\n",
        "An integer `n` is a power of two, if there exists an integer `x` such that `n == 2x`.\n",
        "\n",
        "**Example 1:**\n",
        "Input: n = 1\n",
        "\n",
        "Output: true\n",
        "\n",
        "**Example 2:**\n",
        "Input: n = 16\n",
        "\n",
        "Output: true\n",
        "\n",
        "**Example 3:**\n",
        "Input: n = 3\n",
        "\n",
        "Output: false\n",
        "\n",
        "</aside>\n",
        "\n",
        "<aside>"
      ],
      "metadata": {
        "id": "RBJR-S_yrUtU"
      }
    },
    {
      "cell_type": "code",
      "source": [
        "def isPowerOfTwo(n):\n",
        "    return n > 0 and (n & (n - 1)) == 0\n",
        "n = 1\n",
        "result = isPowerOfTwo(n)\n",
        "print(result)  # Output: True\n",
        "\n"
      ],
      "metadata": {
        "colab": {
          "base_uri": "https://localhost:8080/"
        },
        "id": "-pmftyWLrbsa",
        "outputId": "ee2a690a-2dbe-4163-ae31-4aea6b6406c9"
      },
      "execution_count": 1,
      "outputs": [
        {
          "output_type": "stream",
          "name": "stdout",
          "text": [
            "True\n"
          ]
        }
      ]
    },
    {
      "cell_type": "markdown",
      "source": [
        "\n",
        "💡 **Question 2**\n",
        "\n",
        "Given a number n, find the sum of the first natural numbers.\n",
        "\n",
        "**Example 1:**\n",
        "\n",
        "Input: n = 3\n",
        "\n",
        "Output: 6\n",
        "\n",
        "**Example 2:**\n",
        "\n",
        "Input  : 5\n",
        "\n",
        "Output : 15\n",
        "\n",
        "</aside>\n",
        "\n",
        "<aside>\n"
      ],
      "metadata": {
        "id": "27zcIhBcrbY-"
      }
    },
    {
      "cell_type": "code",
      "source": [
        "def sumOfNaturalNumbers(n):\n",
        "    return (n * (n + 1)) // 2\n",
        "n = 3\n",
        "result = sumOfNaturalNumbers(n)\n",
        "print(result)  # Output: 6\n"
      ],
      "metadata": {
        "colab": {
          "base_uri": "https://localhost:8080/"
        },
        "id": "GcRI53SFrbIi",
        "outputId": "629cc095-ac9e-4a25-f7ce-11245fc188b3"
      },
      "execution_count": 2,
      "outputs": [
        {
          "output_type": "stream",
          "name": "stdout",
          "text": [
            "6\n"
          ]
        }
      ]
    },
    {
      "cell_type": "markdown",
      "source": [
        "💡 **Question 3**\n",
        "\n",
        "****Given a positive integer, N. Find the factorial of N.\n",
        "\n",
        "**Example 1:**\n",
        "\n",
        "Input: N = 5\n",
        "\n",
        "Output: 120\n",
        "\n",
        "**Example 2:**\n",
        "\n",
        "Input: N = 4\n",
        "\n",
        "Output: 24\n",
        "\n",
        "</aside>"
      ],
      "metadata": {
        "id": "2-bWeWItra4L"
      }
    },
    {
      "cell_type": "code",
      "source": [
        "def factorial(n):\n",
        "    if n == 0 or n == 1:\n",
        "        return 1\n",
        "    else:\n",
        "        return n * factorial(n - 1)\n",
        "N = 5\n",
        "result = factorial(N)\n",
        "print(result)  # Output: 120\n"
      ],
      "metadata": {
        "colab": {
          "base_uri": "https://localhost:8080/"
        },
        "id": "lErZbwnGraom",
        "outputId": "6e26b18f-5ea9-4a9c-963c-07ce7c4e2c64"
      },
      "execution_count": 3,
      "outputs": [
        {
          "output_type": "stream",
          "name": "stdout",
          "text": [
            "120\n"
          ]
        }
      ]
    },
    {
      "cell_type": "markdown",
      "source": [
        "<aside>\n",
        "💡 **Question 4**\n",
        "\n",
        "Given a number N and a power P, the task is to find the exponent of this number raised to the given power, i.e. N^P.\n",
        "\n",
        "**Example 1 :**\n",
        "\n",
        "Input: N = 5, P = 2\n",
        "\n",
        "Output: 25\n",
        "\n",
        "**Example 2 :**\n",
        "Input: N = 2, P = 5\n",
        "\n",
        "Output: 32\n",
        "\n",
        "</aside>\n",
        "\n",
        "\n",
        "\n"
      ],
      "metadata": {
        "id": "GKowQh2CraY_"
      }
    },
    {
      "cell_type": "code",
      "source": [
        "def power(N, P):\n",
        "    if P == 0:\n",
        "        return 1\n",
        "    else:\n",
        "        return N * power(N, P - 1)\n",
        "N = 5\n",
        "P = 2\n",
        "result = power(N, P)\n",
        "print(result)  # Output: 25\n",
        "\n"
      ],
      "metadata": {
        "colab": {
          "base_uri": "https://localhost:8080/"
        },
        "id": "bP6JAG-JraIq",
        "outputId": "534c21d6-d8a2-49bf-b9e5-37bdfce26349"
      },
      "execution_count": 6,
      "outputs": [
        {
          "output_type": "stream",
          "name": "stdout",
          "text": [
            "25\n"
          ]
        }
      ]
    },
    {
      "cell_type": "markdown",
      "source": [
        "💡 **Question 5**\n",
        "\n",
        "Given an array of integers **arr**, the task is to find maximum element of that array using recursion.\n",
        "\n",
        "**Example 1:**\n",
        "\n",
        "Input: arr = {1, 4, 3, -5, -4, 8, 6};\n",
        "Output: 8\n",
        "\n",
        "**Example 2:**\n",
        "\n",
        "Input: arr = {1, 4, 45, 6, 10, -8};\n",
        "Output: 45\n"
      ],
      "metadata": {
        "id": "DlbF_OmOrZ53"
      }
    },
    {
      "cell_type": "code",
      "source": [
        "def findMax(arr, start, end):\n",
        "    if start == end:\n",
        "        return arr[start]\n",
        "\n",
        "    mid = (start + end) // 2\n",
        "    left_max = findMax(arr, start, mid)\n",
        "    right_max = findMax(arr, mid + 1, end)\n",
        "\n",
        "    return max(left_max, right_max)\n",
        "\n",
        "# Example usage\n",
        "arr = [1, 4, 3, -5, -4, 8, 6]\n",
        "result = findMax(arr, 0, len(arr)-1)\n",
        "print(result)  # Output: 8\n",
        "\n",
        "arr1 = [1, 4, 3, -5, -4, 8, 6]\n",
        "result1 = findMax(arr1, 0, len(arr1)-1)\n",
        "print(result1)  # Output: 8\n",
        "\n",
        "arr2 = [1, 4, 45, 6, 10, -8]\n",
        "result2 = findMax(arr2, 0, len(arr2)-1)\n",
        "print(result2)  # Output: 45\n"
      ],
      "metadata": {
        "colab": {
          "base_uri": "https://localhost:8080/"
        },
        "id": "OiSsGLo6rZqp",
        "outputId": "9df92130-97ed-4921-94e7-3f970ea45e5b"
      },
      "execution_count": 4,
      "outputs": [
        {
          "output_type": "stream",
          "name": "stdout",
          "text": [
            "8\n",
            "8\n",
            "45\n"
          ]
        }
      ]
    },
    {
      "cell_type": "markdown",
      "source": [
        "<aside>\n",
        "💡 **Question 6**\n",
        "\n",
        "Given first term (a), common difference (d) and a integer N of the Arithmetic Progression series, the task is to find Nth term of the series.\n",
        "\n",
        "**Example 1:**\n",
        "\n",
        "Input : a = 2 d = 1 N = 5\n",
        "Output : 6\n",
        "The 5th term of the series is : 6\n",
        "\n",
        "**Example 2:**\n",
        "\n",
        "Input : a = 5 d = 2 N = 10\n",
        "Output : 23\n",
        "The 10th term of the series is : 23\n",
        "\n",
        "</aside>"
      ],
      "metadata": {
        "id": "fUOsuwu4rZVb"
      }
    },
    {
      "cell_type": "code",
      "source": [
        "def findNthTerm(a, d, N):\n",
        "    return a + (N - 1) * d\n",
        "a1 = 2\n",
        "d1 = 1\n",
        "N1 = 5\n",
        "result1 = findNthTerm(a1, d1, N1)\n",
        "print(result1)  # Output: 6\n",
        "\n",
        "a2 = 5\n",
        "d2 = 2\n",
        "N2 = 10\n",
        "result2 = findNthTerm(a2, d2, N2)\n",
        "print(result2)  # Output: 23\n"
      ],
      "metadata": {
        "colab": {
          "base_uri": "https://localhost:8080/"
        },
        "id": "kxu-ItH-rXRj",
        "outputId": "38b386a3-a9c8-4483-8f68-99ae532b1e28"
      },
      "execution_count": 7,
      "outputs": [
        {
          "output_type": "stream",
          "name": "stdout",
          "text": [
            "6\n",
            "23\n"
          ]
        }
      ]
    },
    {
      "cell_type": "code",
      "source": [],
      "metadata": {
        "id": "ZyYOynQmu5ry"
      },
      "execution_count": null,
      "outputs": []
    },
    {
      "cell_type": "markdown",
      "source": [
        "<aside>\n",
        "💡 **Question 7**\n",
        "\n",
        "Given a string S, the task is to write a program to print all permutations of a given string.\n",
        "\n",
        "**Example 1:**\n",
        "\n",
        "***Input:***\n",
        "\n",
        "*S = “ABC”*\n",
        "\n",
        "***Output:***\n",
        "\n",
        "*“ABC”, “ACB”, “BAC”, “BCA”, “CBA”, “CAB”*\n",
        "\n",
        "**Example 2:**\n",
        "\n",
        "***Input:***\n",
        "\n",
        "*S = “XY”*\n",
        "\n",
        "***Output:***\n",
        "\n",
        "*“XY”, “YX”*\n",
        "\n",
        "</aside>"
      ],
      "metadata": {
        "id": "qL9KxVPqu_Iw"
      }
    },
    {
      "cell_type": "code",
      "source": [
        "def permute(S, l, r):\n",
        "    if l == r:\n",
        "        print(\"\".join(S))\n",
        "    else:\n",
        "        for i in range(l, r+1):\n",
        "            S[l], S[i] = S[i], S[l]\n",
        "            permute(S, l+1, r)\n",
        "            S[l], S[i] = S[i], S[l]  # Backtrack\n",
        "\n",
        "# Example usage\n",
        "S = \"ABC\"\n",
        "permute(list(S))\n",
        "\n",
        "S1 = \"ABC\"\n",
        "permute(list(S1))  # Output: \"ABC\", \"ACB\", \"BAC\", \"BCA\", \"CBA\", \"CAB\"\n",
        "\n",
        "S2 = \"XY\"\n",
        "permute(list(S2))  # Output: \"XY\", \"YX\"\n",
        "\n"
      ],
      "metadata": {
        "colab": {
          "base_uri": "https://localhost:8080/",
          "height": 235
        },
        "id": "ShysP6UEvL5h",
        "outputId": "df20bf07-7acc-43bc-f4ab-9a39ec44bc08"
      },
      "execution_count": 9,
      "outputs": [
        {
          "output_type": "error",
          "ename": "TypeError",
          "evalue": "ignored",
          "traceback": [
            "\u001b[0;31m---------------------------------------------------------------------------\u001b[0m",
            "\u001b[0;31mTypeError\u001b[0m                                 Traceback (most recent call last)",
            "\u001b[0;32m<ipython-input-9-b661be5ca9ef>\u001b[0m in \u001b[0;36m<cell line: 12>\u001b[0;34m()\u001b[0m\n\u001b[1;32m     10\u001b[0m \u001b[0;31m# Example usage\u001b[0m\u001b[0;34m\u001b[0m\u001b[0;34m\u001b[0m\u001b[0m\n\u001b[1;32m     11\u001b[0m \u001b[0mS\u001b[0m \u001b[0;34m=\u001b[0m \u001b[0;34m\"ABC\"\u001b[0m\u001b[0;34m\u001b[0m\u001b[0;34m\u001b[0m\u001b[0m\n\u001b[0;32m---> 12\u001b[0;31m \u001b[0mpermute\u001b[0m\u001b[0;34m(\u001b[0m\u001b[0mlist\u001b[0m\u001b[0;34m(\u001b[0m\u001b[0mS\u001b[0m\u001b[0;34m)\u001b[0m\u001b[0;34m)\u001b[0m\u001b[0;34m\u001b[0m\u001b[0;34m\u001b[0m\u001b[0m\n\u001b[0m\u001b[1;32m     13\u001b[0m \u001b[0;34m\u001b[0m\u001b[0m\n\u001b[1;32m     14\u001b[0m \u001b[0mS1\u001b[0m \u001b[0;34m=\u001b[0m \u001b[0;34m\"ABC\"\u001b[0m\u001b[0;34m\u001b[0m\u001b[0;34m\u001b[0m\u001b[0m\n",
            "\u001b[0;31mTypeError\u001b[0m: permute() missing 2 required positional arguments: 'l' and 'r'"
          ]
        }
      ]
    },
    {
      "cell_type": "markdown",
      "source": [
        "<aside>\n",
        "💡 **Question 8**\n",
        "\n",
        "Given an array, find a product of all array elements.\n",
        "\n",
        "**Example 1:**\n",
        "\n",
        "Input  : arr[] = {1, 2, 3, 4, 5}\n",
        "Output : 120\n",
        "**Example 2:**\n",
        "\n",
        "Input  : arr[] = {1, 6, 3}\n",
        "Output : 18\n",
        "\n",
        "</aside>"
      ],
      "metadata": {
        "id": "wPcdwm0bwGeJ"
      }
    },
    {
      "cell_type": "markdown",
      "source": [],
      "metadata": {
        "id": "DcCbr1tjyih1"
      }
    },
    {
      "cell_type": "code",
      "source": [
        "def productOfArray(arr):\n",
        "    product = 1\n",
        "    for num in arr:\n",
        "        product *= num\n",
        "    return product\n",
        "arr1 = [1, 2, 3, 4, 5]\n",
        "result1 = productOfArray(arr1)\n",
        "print(result1)  # Output: 120\n",
        "\n",
        "arr2 = [1, 6, 3]\n",
        "result2 = productOfArray(arr2)\n",
        "print(result2)  # Output: 18\n",
        "\n"
      ],
      "metadata": {
        "colab": {
          "base_uri": "https://localhost:8080/"
        },
        "id": "bt7b2HfNvjHY",
        "outputId": "3cc2d81f-4306-480a-bbb7-5a25e65865df"
      },
      "execution_count": 10,
      "outputs": [
        {
          "output_type": "stream",
          "name": "stdout",
          "text": [
            "120\n",
            "18\n"
          ]
        }
      ]
    },
    {
      "cell_type": "code",
      "source": [],
      "metadata": {
        "id": "7R-ELJ0ax4Xo"
      },
      "execution_count": null,
      "outputs": []
    }
  ]
}