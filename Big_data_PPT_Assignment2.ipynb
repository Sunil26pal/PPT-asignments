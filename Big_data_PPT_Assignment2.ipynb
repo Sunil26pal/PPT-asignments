{
  "nbformat": 4,
  "nbformat_minor": 0,
  "metadata": {
    "colab": {
      "provenance": []
    },
    "kernelspec": {
      "name": "python3",
      "display_name": "Python 3"
    },
    "language_info": {
      "name": "python"
    }
  },
  "cells": [
    {
      "cell_type": "markdown",
      "source": [
        "1. Write an SQL query to retrieve the names and email addresses of all employees from a table named \"Employees\".\n"
      ],
      "metadata": {
        "id": "hpyI8exJluA2"
      }
    },
    {
      "cell_type": "code",
      "execution_count": null,
      "metadata": {
        "id": "QC1X0MBIlYPK"
      },
      "outputs": [],
      "source": [
        "SELECT name, email\n",
        " #SELECT is used to specify the columns that you want to retrieve from the table.\n",
        "FROM Employees;\n",
        "#FROM is used to specify the table from which you want to retrieve the data.\n"
      ]
    },
    {
      "cell_type": "markdown",
      "source": [
        "2. Write an SQL query to filter records from a table named \"Customers\" where the \"City\" column is 'New York'."
      ],
      "metadata": {
        "id": "NcUjAo_DmHOG"
      }
    },
    {
      "cell_type": "code",
      "source": [
        "SELECT *#SELECT * is used to retrieve all columns from the table.\n",
        "FROM Customers\n",
        "WHERE City = 'New York';\n"
      ],
      "metadata": {
        "id": "ByDmzOUfm41b"
      },
      "execution_count": null,
      "outputs": []
    },
    {
      "cell_type": "markdown",
      "source": [
        "3. Write an SQL query to sort records in descending order based on the \"DateOfBirth\" column in a table named \"Users\".\n",
        ".\n",
        "\n"
      ],
      "metadata": {
        "id": "iMfPoscfnX8Q"
      }
    },
    {
      "cell_type": "code",
      "source": [
        "SELECT *\n",
        "FROM Users\n",
        "ORDER BY DateOfBirth DESC;\n",
        "#ORDER BY DateOfBirth DESC specifies the sorting condition.\n",
        "#The \"DateOfBirth\" column is used for sorting, and DESC indicates descending order."
      ],
      "metadata": {
        "id": "-H6HrUb9nK-q"
      },
      "execution_count": null,
      "outputs": []
    },
    {
      "cell_type": "markdown",
      "source": [
        "4. Write an SQL query to sort records in ascending order based on the \"RegistrationDate\" column in a table named \"Users\".\n"
      ],
      "metadata": {
        "id": "qP8lHHqSnKuY"
      }
    },
    {
      "cell_type": "code",
      "source": [
        "SELECT *\n",
        "FROM Users\n",
        "ORDER BY RegistrationDate ASC;#The \"RegistrationDate\" column is used for sorting, and ASC indicates ascending order.\n",
        "\n"
      ],
      "metadata": {
        "id": "HSKFlz1_nKf8"
      },
      "execution_count": null,
      "outputs": []
    },
    {
      "cell_type": "markdown",
      "source": [
        "5. Write an SQL query to find the employee with the highest salary from a table named \"Employees\" and display their name, position, and salary.\n"
      ],
      "metadata": {
        "id": "Yb9F_91VnKLg"
      }
    },
    {
      "cell_type": "code",
      "source": [
        "SELECT name, position, salary\n",
        "FROM Employees\n",
        "WHERE salary = (SELECT MAX(salary) FROM Employees);\n",
        "#The subquery (SELECT MAX(salary) FROM Employees) retrieves the maximum salary value from the \"Employees\" table."
      ],
      "metadata": {
        "id": "fN_bIe0ynJ9Y"
      },
      "execution_count": null,
      "outputs": []
    },
    {
      "cell_type": "markdown",
      "source": [
        "6. Write an SQL query to retrieve records from a table named \"Customers\" where the \"Phone\" column matches the pattern '+1-XXX-XXX-XXXX'.\n"
      ],
      "metadata": {
        "id": "4ybsQth9nJqt"
      }
    },
    {
      "cell_type": "code",
      "source": [
        "SELECT *\n",
        "FROM Customers\n",
        "WHERE Phone LIKE '+1-___-___-____';#The LIKE operator is used to match the pattern\n",
        "#WHERE Phone LIKE '+1-___-___-____' is the condition that filters the records based on the pattern."
      ],
      "metadata": {
        "id": "YuC-qlqxnJbJ"
      },
      "execution_count": null,
      "outputs": []
    },
    {
      "cell_type": "markdown",
      "source": [
        "7. Write an SQL query to retrieve the top 5 customers with the highest total purchase amount from a table named \"Orders\" and display their names and total purchase amounts.\n"
      ],
      "metadata": {
        "id": "QxtAnEkMn42x"
      }
    },
    {
      "cell_type": "code",
      "source": [
        "SELECT c.name, SUM(o.purchase_amount) AS total_purchase_amount #SELECT c.name selects the customer's name from the \"Customers\" table.\n",
        "#SUM(o.purchase_amount) AS total_purchase_amount calculates the sum of the purchase amounts for each customer and assigns it an alias \"total_purchase_amount\n",
        "FROM Orders o\n",
        "JOIN Customers c ON o.customer_id = c.customer_id\n",
        "GROUP BY c.name\n",
        "ORDER BY total_purchase_amount DESC\n",
        "LIMIT 5;#LIMIT 5 restricts the result set to only the top 5 records.\n"
      ],
      "metadata": {
        "id": "Fl3drMwZn532"
      },
      "execution_count": null,
      "outputs": []
    },
    {
      "cell_type": "markdown",
      "source": [
        "\n",
        "8. Write an SQL query to calculate the percentage of sales for each product category in a table named \"Sales\" and display the category name, total sales amount, and the percentage of total sales.\n",
        "\n"
      ],
      "metadata": {
        "id": "iakCfB33n6XX"
      }
    },
    {
      "cell_type": "code",
      "source": [
        "SELECT category_name,\n",
        "SUM(sales_amount) AS total_sales_amount,#calculates the sum of sales amounts for each category and assigns it an alias \"total_sales_amount\".\n",
        "    (SUM(sales_amount) / (SELECT SUM(sales_amount) FROM Sales)) * 100 AS sales_percentage\n",
        "FROM Sales\n",
        "GROUP BY category_name;\n"
      ],
      "metadata": {
        "id": "go7AjYezoZ98"
      },
      "execution_count": null,
      "outputs": []
    },
    {
      "cell_type": "markdown",
      "source": [
        "9. Write an SQL query to find the customers who have made the highest total purchases across all years from a table named \"Orders\" and display their names, email addresses, and the total purchase amount"
      ],
      "metadata": {
        "id": "k3Xzao6roF3b"
      }
    },
    {
      "cell_type": "code",
      "source": [
        "SELECT c.name, c.email, SUM(o.purchase_amount) AS total_purchase_amount\n",
        "FROM Orders o\n",
        "JOIN Customers c ON o.customer_id = c.customer_id\n",
        "GROUP BY c.name, c.email\n",
        "HAVING SUM(o.purchase_amount) = (\n",
        "    SELECT MAX(total_purchases)#The HAVING clause filters the records to include only the customers with the highest total purchases.\n",
        "    FROM (\n",
        "        SELECT SUM(purchase_amount) AS total_purchases\n",
        "        FROM Orders\n",
        "        GROUP BY customer_id\n",
        "    ) AS subquery\n",
        ");\n"
      ],
      "metadata": {
        "id": "rn-un9E2obT0"
      },
      "execution_count": null,
      "outputs": []
    }
  ]
}