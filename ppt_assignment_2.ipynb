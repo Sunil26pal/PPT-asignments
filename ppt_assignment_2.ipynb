{
  "nbformat": 4,
  "nbformat_minor": 0,
  "metadata": {
    "colab": {
      "provenance": []
    },
    "kernelspec": {
      "name": "python3",
      "display_name": "Python 3"
    },
    "language_info": {
      "name": "python"
    }
  },
  "cells": [
    {
      "cell_type": "code",
      "source": [],
      "metadata": {
        "id": "ejKDuq8B2BE4"
      },
      "execution_count": null,
      "outputs": []
    },
    {
      "cell_type": "markdown",
      "source": [
        "Question 1.\n",
        "Given an integer array nums of 2n integers, group these integers into n pairs (a1, b1), (a2, b2),..., (an, bn) such that the sum of min(ai, bi) for all i is maximized. Return the maximized sum.\n",
        "\n",
        "Example 1:\n",
        "Input: nums = [1,4,3,2]\n",
        "Output: 4"
      ],
      "metadata": {
        "id": "DP9l3qNy16Q7"
      }
    },
    {
      "cell_type": "code",
      "source": [
        "def arrayPairSum(nums):\n",
        "    nums.sort()\n",
        "    max_sum = 0\n",
        "    for i in range(0, len(nums), 2):\n",
        "        max_sum += nums[i]\n",
        "    return max_sum\n",
        "\n",
        "# Example usage:\n",
        "nums = [1, 4, 3, 2]\n",
        "print(arrayPairSum(nums))\n"
      ],
      "metadata": {
        "colab": {
          "base_uri": "https://localhost:8080/"
        },
        "id": "gcojmJVj2C9g",
        "outputId": "91b989b5-c1b7-4bc2-88f9-3bb6649b939a"
      },
      "execution_count": 1,
      "outputs": [
        {
          "output_type": "stream",
          "name": "stdout",
          "text": [
            "4\n"
          ]
        }
      ]
    },
    {
      "cell_type": "markdown",
      "source": [
        "Question 2.\n",
        "Alice has n candies, where the ith candy is of type candyType[i]. Alice noticed that she started to gain weight, so she visited a doctor.\n",
        "\n",
        "The doctor advised Alice to only eat n / 2 of the candies she has (n is always even). Alice likes her candies very much, and she wants to eat the maximum number of different types of candies while still following the doctor's advice.\n",
        "\n",
        "Given the integer array candyType of length n, return the maximum number of different types of candies she can eat if she only eats n / 2 of them.\n",
        "\n",
        "Example 1:\n",
        "Input: candyType = [1,1,2,2,3,3]\n",
        "Output: 3"
      ],
      "metadata": {
        "id": "ZMfU-QvDDweR"
      }
    },
    {
      "cell_type": "code",
      "source": [
        "def maxCandies(candyType):\n",
        "    unique_types = set()\n",
        "    for candy in candyType:\n",
        "        unique_types.add(candy)\n",
        "    return min(len(unique_types), len(candyType) // 2)\n",
        "\n",
        "# Example usage:\n",
        "candyType = [1, 1, 2, 2, 3, 3]\n",
        "print(maxCandies(candyType))\n"
      ],
      "metadata": {
        "id": "jc6jTDxdCcHl"
      },
      "execution_count": null,
      "outputs": []
    },
    {
      "cell_type": "markdown",
      "source": [
        "Question 3.\n",
        "We define a harmonious array as an array where the difference between its maximum value\n",
        "and its minimum value is exactly 1.\n",
        "\n",
        "Given an integer array nums, return the length of its longest harmonious subsequence\n",
        "among all its possible subsequences.\n",
        "\n",
        "A subsequence of an array is a sequence that can be derived from the array by deleting some or no elements without changing the order of the remaining elements.\n",
        "\n",
        "Example 1:\n",
        "Input: nums = [1,3,2,2,5,2,3,7]\n",
        "Output: 5"
      ],
      "metadata": {
        "id": "2X73AI1sD_g2"
      }
    },
    {
      "cell_type": "code",
      "source": [
        "def findLHS(nums):\n",
        "    num_counts = {}\n",
        "    for num in nums:\n",
        "        num_counts[num] = num_counts.get(num, 0) + 1\n",
        "\n",
        "    max_length = 0\n",
        "    for num in num_counts:\n",
        "        if num + 1 in num_counts:\n",
        "            length = num_counts[num] + num_counts[num + 1]\n",
        "            max_length = max(max_length, length)\n",
        "\n",
        "    return max_length\n",
        "\n",
        "# Example usage:\n",
        "nums = [1, 3, 2, 2, 5, 2, 3, 7]\n",
        "print(findLHS(nums))\n"
      ],
      "metadata": {
        "colab": {
          "base_uri": "https://localhost:8080/"
        },
        "id": "9VLd6UXzEBjv",
        "outputId": "d9616f1c-73c5-4d8b-e59a-2e723bf871e6"
      },
      "execution_count": 2,
      "outputs": [
        {
          "output_type": "stream",
          "name": "stdout",
          "text": [
            "5\n"
          ]
        }
      ]
    },
    {
      "cell_type": "markdown",
      "source": [
        "Question 4\n",
        "You have a long flowerbed in which some of the plots are planted, and some are not.\n",
        "However, flowers cannot be planted in adjacent plots.\n",
        "Given an integer array flowerbed containing 0's and 1's, where 0 means empty and 1 means not empty, and an integer n, return true if n new flowers can be planted in the flowerbed without violating the no-adjacent-flowers rule and false otherwise.\n",
        "\n",
        "Example 1:\n",
        "Input: flowerbed = [1,0,0,0,1], n = 1"
      ],
      "metadata": {
        "id": "XakgNnHNFSrv"
      }
    },
    {
      "cell_type": "code",
      "source": [
        "def canPlaceFlowers(flowerbed, n):\n",
        "    count = 0\n",
        "    length = len(flowerbed)\n",
        "    for i in range(length):\n",
        "        if flowerbed[i] == 0 and (i == 0 or flowerbed[i - 1] == 0) and (i == length - 1 or flowerbed[i + 1] == 0):\n",
        "            flowerbed[i] = 1\n",
        "            count += 1\n",
        "            n -= 1\n",
        "            if count >= n:\n",
        "                return True\n",
        "    return False\n",
        "\n",
        "# Example usage:\n",
        "flowerbed = [1, 0, 0, 0, 1]\n",
        "n = 1\n",
        "print(canPlaceFlowers(flowerbed, n))\n"
      ],
      "metadata": {
        "colab": {
          "base_uri": "https://localhost:8080/"
        },
        "id": "tGcPFUUUFKre",
        "outputId": "81b87edb-eb43-4024-cd4e-bf4b0de8e680"
      },
      "execution_count": 3,
      "outputs": [
        {
          "output_type": "stream",
          "name": "stdout",
          "text": [
            "True\n"
          ]
        }
      ]
    },
    {
      "cell_type": "markdown",
      "source": [
        "Question 5\n",
        "Given an integer array nums, find three numbers whose product is maximum and return the maximum product.\n",
        "\n",
        "Example 1:\n",
        "Input: nums = [1,2,3]"
      ],
      "metadata": {
        "id": "C2LFisOaHJhY"
      }
    },
    {
      "cell_type": "code",
      "source": [
        "def maximumProduct(nums):\n",
        "    nums.sort()\n",
        "    return max(nums[-1] * nums[-2] * nums[-3], nums[0] * nums[1] * nums[-1])\n",
        "\n",
        "# Example usage:\n",
        "nums = [1, 2, 3]\n",
        "print(maximumProduct(nums))\n"
      ],
      "metadata": {
        "colab": {
          "base_uri": "https://localhost:8080/"
        },
        "id": "LE1-QwptF6cq",
        "outputId": "a8f3b944-a7f9-4234-b1b6-7792ef343a46"
      },
      "execution_count": 4,
      "outputs": [
        {
          "output_type": "stream",
          "name": "stdout",
          "text": [
            "6\n"
          ]
        }
      ]
    },
    {
      "cell_type": "markdown",
      "source": [
        "Question 6.\n",
        "Given an array of integers nums which is sorted in ascending order, and an integer target,\n",
        "write a function to search target in nums. If target exists, then return its index. Otherwise,\n",
        "return -1.\n",
        "\n",
        "You must write an algorithm with O(log n) runtime complexity.\n",
        "\n",
        "Input: nums = [-1,0,3,5,9,12], target = *9*"
      ],
      "metadata": {
        "id": "bUZpWGEvIPgm"
      }
    },
    {
      "cell_type": "code",
      "source": [
        "def search(nums, target):\n",
        "    left, right = 0, len(nums) - 1\n",
        "    while left <= right:\n",
        "        middle = (left + right) // 2\n",
        "        if nums[middle] == target:\n",
        "            return middle\n",
        "        elif nums[middle] > target:\n",
        "            right = middle - 1\n",
        "        else:\n",
        "            left = middle + 1\n",
        "    return -1\n",
        "\n",
        "# Example usage:\n",
        "nums = [-1, 0, 3, 5, 9, 12]\n",
        "target = 9\n",
        "print(search(nums, target))\n"
      ],
      "metadata": {
        "id": "X_K8FsHqID1-"
      },
      "execution_count": null,
      "outputs": []
    },
    {
      "cell_type": "markdown",
      "source": [
        "Question 7.\n",
        "An array is monotonic if it is either monotone increasing or monotone decreasing.\n",
        "\n",
        "An array nums is monotone increasing if for all i <= j, nums[i] <= nums[j]. An array nums is\n",
        "monotone decreasing if for all i <= j, nums[i] >= nums[j].\n",
        "\n",
        "Given an integer array nums, return true if the given array is monotonic, or false otherwise.\n",
        "\n",
        "Example 1:\n",
        "Input: nums = [1,2,2,3]"
      ],
      "metadata": {
        "id": "HZWvkSiSInyX"
      }
    },
    {
      "cell_type": "code",
      "source": [
        "def isMonotonic(nums):\n",
        "    isIncreasing = True\n",
        "    isDecreasing = True\n",
        "    for i in range(1, len(nums)):\n",
        "        if nums[i] < nums[i-1]:\n",
        "            isIncreasing = False\n",
        "        if nums[i] > nums[i-1]:\n",
        "            isDecreasing = False\n",
        "        if not isIncreasing and not isDecreasing:\n",
        "            return False\n",
        "    return True\n",
        "\n",
        "# Example usage:\n",
        "nums = [1, 2, 2, 3]\n",
        "print(isMonotonic(nums))\n"
      ],
      "metadata": {
        "id": "Xf4N_sqNIpCg"
      },
      "execution_count": null,
      "outputs": []
    },
    {
      "cell_type": "markdown",
      "source": [
        "Question 8\n",
        "You are given an integer array nums and an integer k.\n",
        "\n",
        "In one operation, you can choose any index i where 0 <= i < nums.length and change nums[i] to nums[i] + x where x is an integer from the range [-k, k]. You can apply this operation at most once for each index i.\n",
        "\n",
        "The score of nums is the difference between the maximum and minimum elements in nums.\n",
        "\n",
        "Return the minimum score of nums after applying the mentioned operation at most once for each index in it.\n",
        "\n",
        "Example 1:\n",
        "Input: nums = [1], k = 0"
      ],
      "metadata": {
        "id": "Uny2NevGItxG"
      }
    },
    {
      "cell_type": "code",
      "source": [],
      "metadata": {
        "id": "QQuEHVRCIuNs"
      },
      "execution_count": null,
      "outputs": []
    }
  ]
}