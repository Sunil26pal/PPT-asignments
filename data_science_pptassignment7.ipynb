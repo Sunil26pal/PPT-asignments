{
  "nbformat": 4,
  "nbformat_minor": 0,
  "metadata": {
    "colab": {
      "provenance": []
    },
    "kernelspec": {
      "name": "python3",
      "display_name": "Python 3"
    },
    "language_info": {
      "name": "python"
    }
  },
  "cells": [
    {
      "cell_type": "code",
      "execution_count": null,
      "metadata": {
        "id": "8wuc67Ayf9-8"
      },
      "outputs": [],
      "source": []
    },
    {
      "cell_type": "markdown",
      "source": [
        "\n",
        "💡 **Question 1**\n",
        "\n",
        "A permutation perm of n + 1 integers of all the integers in the range [0, n] can be represented as a string s of length n where:\n",
        "\n",
        "- s[i] == 'I' if perm[i] < perm[i + 1], and\n",
        "- s[i] == 'D' if perm[i] > perm[i + 1].\n",
        "\n",
        "Given a string s, reconstruct the permutation perm and return it. If there are multiple valid permutations perm, return **any of them**.\n",
        "\n",
        "**Example 1:**\n",
        "\n",
        "**Input:** s = \"IDID\"\n",
        "\n"
      ],
      "metadata": {
        "id": "-n9wawDrgCo0"
      }
    },
    {
      "cell_type": "code",
      "source": [
        "def reconstruct_permutation(s):\n",
        "    perm = []\n",
        "    n = len(s)\n",
        "    current = 0\n",
        "\n",
        "    for c in s:\n",
        "        if c == 'I':\n",
        "            perm.append(current)\n",
        "            current += 1\n",
        "        elif c == 'D':\n",
        "            perm.append(n)\n",
        "            n -= 1\n",
        "\n",
        "    perm.append(n)\n",
        "    return perm\n"
      ],
      "metadata": {
        "id": "eG2dXAgvgFJA"
      },
      "execution_count": 1,
      "outputs": []
    },
    {
      "cell_type": "code",
      "source": [
        "s = \"IDID\"\n",
        "result = reconstruct_permutation(s)\n",
        "print(result)\n"
      ],
      "metadata": {
        "colab": {
          "base_uri": "https://localhost:8080/"
        },
        "id": "6yEAF9B0gNHU",
        "outputId": "9fcc0f34-1461-4b35-d246-34c073e018a9"
      },
      "execution_count": 2,
      "outputs": [
        {
          "output_type": "stream",
          "name": "stdout",
          "text": [
            "[0, 4, 1, 3, 2]\n"
          ]
        }
      ]
    },
    {
      "cell_type": "markdown",
      "source": [
        "\n",
        "💡 **Question 2**\n",
        "\n",
        "You are given an m x n integer matrix matrix with the following two properties:\n",
        "\n",
        "- Each row is sorted in non-decreasing order.\n",
        "- The first integer of each row is greater than the last integer of the previous row.\n",
        "\n",
        "Given an integer target, return true *if* target *is in* matrix *or* false *otherwise*.\n",
        "\n",
        "You must write a solution in O(log(m * n)) time complexity.\n",
        "\n"
      ],
      "metadata": {
        "id": "CthdrfHEgk7p"
      }
    },
    {
      "cell_type": "code",
      "source": [
        "def search_matrix(matrix, target):\n",
        "    if not matrix or not matrix[0]:\n",
        "        return False\n",
        "\n",
        "    m, n = len(matrix), len(matrix[0])\n",
        "    left, right = 0, m * n - 1\n",
        "\n",
        "    while left <= right:\n",
        "        mid = left + (right - left) // 2\n",
        "        row = mid // n\n",
        "        col = mid % n\n",
        "        if matrix[row][col] == target:\n",
        "            return True\n",
        "        elif matrix[row][col] < target:\n",
        "            left = mid + 1\n",
        "        else:\n",
        "            right = mid - 1\n",
        "\n",
        "    return False\n"
      ],
      "metadata": {
        "id": "tKSHsIkigjGG"
      },
      "execution_count": 3,
      "outputs": []
    },
    {
      "cell_type": "code",
      "source": [
        "matrix = [\n",
        "    [1, 3, 5, 7],\n",
        "    [10, 11, 16, 20],\n",
        "    [23, 30, 34, 60]\n",
        "]\n",
        "target = 3\n",
        "\n",
        "result = search_matrix(matrix, target)\n",
        "print(result)\n"
      ],
      "metadata": {
        "colab": {
          "base_uri": "https://localhost:8080/"
        },
        "id": "g1Us7cfDgz1C",
        "outputId": "764d176e-baae-42ed-c126-79048c00495b"
      },
      "execution_count": 4,
      "outputs": [
        {
          "output_type": "stream",
          "name": "stdout",
          "text": [
            "True\n"
          ]
        }
      ]
    },
    {
      "cell_type": "markdown",
      "source": [
        "💡 **Question 3**\n",
        "\n",
        "Given an array of integers arr, return *true if and only if it is a valid mountain array*.\n",
        "\n",
        "Recall that arr is a mountain array if and only if:\n",
        "\n",
        "- arr.length >= 3\n",
        "- There exists some i with 0 < i < arr.length - 1 such that:\n",
        "    - arr[0] < arr[1] < ... < arr[i - 1] < arr[i]\n",
        "    - arr[i] > arr[i + 1] > ... > arr[arr.length - 1]\n",
        "\n",
        "**Input:** arr = [2,1]\n",
        "\n"
      ],
      "metadata": {
        "id": "wuyBjkNuhWOu"
      }
    },
    {
      "cell_type": "code",
      "source": [
        "def valid_mountain_array(arr):\n",
        "    n = len(arr)\n",
        "\n",
        "    if n < 3:\n",
        "        return False\n",
        "\n",
        "    left, right = 0, n - 1\n",
        "\n",
        "    while left < n - 1 and arr[left] < arr[left + 1]:\n",
        "        left += 1\n",
        "\n",
        "    while right > 0 and arr[right] < arr[right - 1]:\n",
        "        right -= 1\n",
        "\n",
        "    return left == right and 0 < left < n - 1\n"
      ],
      "metadata": {
        "id": "R1s-AYDBg2XM"
      },
      "execution_count": 5,
      "outputs": []
    },
    {
      "cell_type": "code",
      "source": [
        "arr = [2, 1]\n",
        "result = valid_mountain_array(arr)\n",
        "print(result)\n"
      ],
      "metadata": {
        "colab": {
          "base_uri": "https://localhost:8080/"
        },
        "id": "M2K1cBU-haXV",
        "outputId": "2d9e0021-a34b-4646-9fbd-d2de3794445f"
      },
      "execution_count": 6,
      "outputs": [
        {
          "output_type": "stream",
          "name": "stdout",
          "text": [
            "False\n"
          ]
        }
      ]
    },
    {
      "cell_type": "markdown",
      "source": [
        " **Question 4**\n",
        "\n",
        "Given a binary array nums, return *the maximum length of a contiguous subarray with an equal number of* 0 *and* 1.\n",
        "\n",
        "**Example 1:**\n",
        "\n",
        "**Input:** nums = [0,1]\n",
        "\n",
        "**Output:** 2\n",
        "\n",
        "**Explanation:**\n",
        "\n",
        "[0, 1] is the longest contiguous subarray with an equal number of 0 and 1.\n"
      ],
      "metadata": {
        "id": "36Vgh3XdhkQr"
      }
    },
    {
      "cell_type": "code",
      "source": [
        "def find_max_length(nums):\n",
        "    max_len = 0\n",
        "    count = 0\n",
        "    count_map = {0: -1}\n",
        "\n",
        "    for i in range(len(nums)):\n",
        "        count += 1 if nums[i] == 1 else -1\n",
        "\n",
        "        if count in count_map:\n",
        "            max_len = max(max_len, i - count_map[count])\n",
        "        else:\n",
        "            count_map[count] = i\n",
        "\n",
        "    return max_len\n"
      ],
      "metadata": {
        "id": "tcSfRZF3hcy-"
      },
      "execution_count": 7,
      "outputs": []
    },
    {
      "cell_type": "code",
      "source": [
        "nums = [0, 1]\n",
        "result = find_max_length(nums)\n",
        "print(result)\n"
      ],
      "metadata": {
        "colab": {
          "base_uri": "https://localhost:8080/"
        },
        "id": "4HgqYUMph95y",
        "outputId": "2249a2a2-1d97-4c49-afc1-6b818e867419"
      },
      "execution_count": 8,
      "outputs": [
        {
          "output_type": "stream",
          "name": "stdout",
          "text": [
            "2\n"
          ]
        }
      ]
    },
    {
      "cell_type": "markdown",
      "source": [
        "\n",
        "💡 **Question 5**\n",
        "\n",
        "The **product sum** of two equal-length arrays a and b is equal to the sum of a[i] * b[i] for all 0 <= i < a.length (**0-indexed**).\n",
        "\n",
        "- For example, if a = [1,2,3,4] and b = [5,2,3,1], the **product sum** would be 1*5 + 2*2 + 3*3 + 4*1 = 22.\n",
        "\n",
        "Given two arrays nums1 and nums2 of length n, return *the **minimum product sum** if you are allowed to **rearrange** the **order** of the elements in* nums1.\n",
        "\n",
        "**Example 1:**\n",
        "\n",
        "**Input:** nums1 = [5,3,4,2], nums2 = [4,2,2,5]\n",
        "\n",
        "**Output:** 40\n",
        "\n",
        "**Explanation:**\n",
        "\n",
        "We can rearrange nums1 to become [3,5,4,2]. The product sum of [3,5,4,2] and [4,2,2,5] is 3*4 + 5*2 + 4*2 + 2*5 = 40.\n"
      ],
      "metadata": {
        "id": "lgcAoIm_iAb4"
      }
    },
    {
      "cell_type": "code",
      "source": [
        "def minimum_product_sum(nums1, nums2):\n",
        "    nums1.sort()\n",
        "    nums2.sort(reverse=True)\n",
        "\n",
        "    min_product_sum = 0\n",
        "    for i in range(len(nums1)):\n",
        "        min_product_sum += nums1[i] * nums2[i]\n",
        "\n",
        "    return min_product_sum\n"
      ],
      "metadata": {
        "id": "x_9uwPuth_vC"
      },
      "execution_count": 9,
      "outputs": []
    },
    {
      "cell_type": "code",
      "source": [
        "nums1 = [5, 3, 4, 2]\n",
        "nums2 = [4, 2, 2, 5]\n",
        "result = minimum_product_sum(nums1, nums2)\n",
        "print(result)\n"
      ],
      "metadata": {
        "colab": {
          "base_uri": "https://localhost:8080/"
        },
        "id": "rYPI8otaiVIc",
        "outputId": "73499cd2-0f9f-4e56-ac05-c1f07765d69f"
      },
      "execution_count": 10,
      "outputs": [
        {
          "output_type": "stream",
          "name": "stdout",
          "text": [
            "40\n"
          ]
        }
      ]
    },
    {
      "cell_type": "markdown",
      "source": [
        "**Question 6**\n",
        "\n",
        "An integer array original is transformed into a **doubled** array changed by appending **twice the value** of every element in original, and then randomly **shuffling** the resulting array.\n",
        "\n",
        "Given an array changed, return original *if* changed *is a **doubled** array. If* changed *is not a **doubled** array, return an empty array. The elements in* original *may be returned in **any** order*.\n",
        "\n",
        "**Example 1:**\n",
        "\n",
        "**Input:** changed = [1,3,4,2,6,8]\n",
        "\n",
        "**Output:** [1,3,4]\n",
        "\n",
        "**Explanation:** One possible original array could be [1,3,4]:\n",
        "\n",
        "- Twice the value of 1 is 1 * 2 = 2.\n",
        "- Twice the value of 3 is 3 * 2 = 6.\n",
        "- Twice the value of 4 is 4 * 2 = 8.\n",
        "\n",
        "Other original arrays could be [4,3,1] or [3,1,4].\n"
      ],
      "metadata": {
        "id": "xOhdOtL0ieAK"
      }
    },
    {
      "cell_type": "code",
      "source": [
        "def find_original_array(changed):\n",
        "    original_set = set()\n",
        "\n",
        "    for num in changed:\n",
        "        if num / 2 not in original_set:\n",
        "            original_set.add(num)\n",
        "        else:\n",
        "            original_set.remove(num / 2)\n",
        "\n",
        "    if len(original_set) == 0:\n",
        "        return []\n",
        "    else:\n",
        "        return list(original_set)\n"
      ],
      "metadata": {
        "id": "phqhBy0giWS_"
      },
      "execution_count": 11,
      "outputs": []
    },
    {
      "cell_type": "code",
      "source": [
        "changed = [1, 3, 4, 2, 6, 8]\n",
        "result = find_original_array(changed)\n",
        "print(result)\n"
      ],
      "metadata": {
        "colab": {
          "base_uri": "https://localhost:8080/"
        },
        "id": "zeTxntEhih_n",
        "outputId": "80a70793-480a-465b-ba8d-22b053b5d9e6"
      },
      "execution_count": 12,
      "outputs": [
        {
          "output_type": "stream",
          "name": "stdout",
          "text": [
            "[]\n"
          ]
        }
      ]
    },
    {
      "cell_type": "markdown",
      "source": [
        "<aside>\n",
        "💡 **Question 7**\n",
        "\n",
        "Given a positive integer n, generate an n x n matrix filled with elements from 1 to n2 in spiral order.\n",
        "\n",
        "**Input:** n = 3\n",
        "\n",
        "**Output:** [[1,2,3],[8,9,4],[7,6,5]]"
      ],
      "metadata": {
        "id": "hUIJRCzijjBm"
      }
    },
    {
      "cell_type": "code",
      "source": [
        "def generateMatrix(n):\n",
        "    matrix = [[0] * n for _ in range(n)]\n",
        "    top, bottom, left, right = 0, n - 1, 0, n - 1\n",
        "    num = 1\n",
        "\n",
        "    while num <= n * n:\n",
        "        # Fill top row\n",
        "        for i in range(left, right + 1):\n",
        "            matrix[top][i] = num\n",
        "            num += 1\n",
        "        top += 1\n",
        "\n",
        "        # Fill right column\n",
        "        for i in range(top, bottom + 1):\n",
        "            matrix[i][right] = num\n",
        "            num += 1\n",
        "        right -= 1\n",
        "\n",
        "        # Fill bottom row\n",
        "        for i in range(right, left - 1, -1):\n",
        "            matrix[bottom][i] = num\n",
        "            num += 1\n",
        "        bottom -= 1\n",
        "\n",
        "        # Fill left column\n",
        "        for i in range(bottom, top - 1, -1):\n",
        "            matrix[i][left] = num\n",
        "            num += 1\n",
        "        left += 1\n",
        "\n",
        "    return matrix\n"
      ],
      "metadata": {
        "id": "b2v7qVIJjsi2"
      },
      "execution_count": 13,
      "outputs": []
    },
    {
      "cell_type": "code",
      "source": [
        "n = 3\n",
        "result = generateMatrix(n)\n",
        "print(result)\n"
      ],
      "metadata": {
        "colab": {
          "base_uri": "https://localhost:8080/"
        },
        "id": "Hs8FqRrAikbQ",
        "outputId": "f4c51a35-1b97-4a3d-efa0-48ee9a58f9e2"
      },
      "execution_count": 14,
      "outputs": [
        {
          "output_type": "stream",
          "name": "stdout",
          "text": [
            "[[1, 2, 3], [8, 9, 4], [7, 6, 5]]\n"
          ]
        }
      ]
    },
    {
      "cell_type": "markdown",
      "source": [
        "*Question 8**\n",
        "\n",
        "Given two [sparse matrices](https://en.wikipedia.org/wiki/Sparse_matrix) mat1 of size m x k and mat2 of size k x n, return the result of mat1 x mat2. You may assume that multiplication is always possible.\n",
        "Input: mat1 = [[1,0,0],[-1,0,3]], mat2 = [[7,0,0],[0,0,0],[0,0,1]]\n"
      ],
      "metadata": {
        "id": "70n-g0OqkJ0d"
      }
    },
    {
      "cell_type": "code",
      "source": [
        "def multiply_sparse_matrices(mat1, mat2):\n",
        "    m = len(mat1)\n",
        "    k = len(mat1[0])\n",
        "    n = len(mat2[0])\n",
        "\n",
        "    result = [[0] * n for _ in range(m)]\n",
        "\n",
        "    for i in range(m):\n",
        "        for j in range(n):\n",
        "            for p in range(k):\n",
        "                if mat1[i][p] != 0 and mat2[p][j] != 0:\n",
        "                    result[i][j] += mat1[i][p] * mat2[p][j]\n",
        "\n",
        "    return result\n"
      ],
      "metadata": {
        "id": "sIJnxm8zkLHF"
      },
      "execution_count": 15,
      "outputs": []
    },
    {
      "cell_type": "code",
      "source": [
        "mat1 = [[1, 0, 0], [-1, 0, 3]]\n",
        "mat2 = [[7, 0, 0], [0, 0, 0], [0, 0, 1]]\n",
        "\n",
        "result = multiply_sparse_matrices(mat1, mat2)\n",
        "print(result)\n"
      ],
      "metadata": {
        "colab": {
          "base_uri": "https://localhost:8080/"
        },
        "id": "K7iYAxqokQIR",
        "outputId": "a424a112-98aa-458e-9a7a-cc569d21e2ab"
      },
      "execution_count": 16,
      "outputs": [
        {
          "output_type": "stream",
          "name": "stdout",
          "text": [
            "[[7, 0, 0], [-7, 0, 3]]\n"
          ]
        }
      ]
    },
    {
      "cell_type": "code",
      "source": [],
      "metadata": {
        "id": "dndMP-QXkRdN"
      },
      "execution_count": null,
      "outputs": []
    }
  ]
}